{
 "cells": [
  {
   "cell_type": "markdown",
   "metadata": {},
   "source": [
    "The goal of this project is to implement a digit classification neural network that will predict a handwritten digit between the values 0 and 9. The images used to train and validate te model will come from the **MNIST** dataset which is a public dataset of 28x28, grayscale, and handwritten image."
   ]
  },
  {
   "cell_type": "code",
   "execution_count": 1,
   "metadata": {},
   "outputs": [],
   "source": [
    "import numpy as np\n",
    "import pandas as pd\n",
    "import opendatasets as od   # For grabbing our dataset\n",
    "from matplotlib import pyplot as plt    # Mainly used to display the images "
   ]
  },
  {
   "cell_type": "markdown",
   "metadata": {},
   "source": [
    "Let's start by grabbing the dataset.\n",
    "\n",
    "In this example, we will be using the MNIST dataset from Kaggle, so we will need an account and a `kaggle.json` that will give us permission to download the dataset."
   ]
  },
  {
   "cell_type": "code",
   "execution_count": 2,
   "metadata": {},
   "outputs": [
    {
     "name": "stdout",
     "output_type": "stream",
     "text": [
      "Skipping, found downloaded files in \".\\digit-recognizer\" (use force=True to force download)\n"
     ]
    }
   ],
   "source": [
    "od.download(\"https://www.kaggle.com/competitions/digit-recognizer/data\")"
   ]
  },
  {
   "cell_type": "markdown",
   "metadata": {},
   "source": [
    "Great, let's take the data and save them as `pandas` objects."
   ]
  },
  {
   "cell_type": "code",
   "execution_count": 3,
   "metadata": {},
   "outputs": [],
   "source": [
    "raw_train_data = pd.read_csv(\"digit-recognizer/train.csv\")\n",
    "raw_test_data = pd.read_csv(\"digit-recognizer/test.csv\")"
   ]
  },
  {
   "cell_type": "markdown",
   "metadata": {},
   "source": [
    "Let's take a look at the data."
   ]
  },
  {
   "cell_type": "code",
   "execution_count": 4,
   "metadata": {},
   "outputs": [
    {
     "data": {
      "text/html": [
       "<div>\n",
       "<style scoped>\n",
       "    .dataframe tbody tr th:only-of-type {\n",
       "        vertical-align: middle;\n",
       "    }\n",
       "\n",
       "    .dataframe tbody tr th {\n",
       "        vertical-align: top;\n",
       "    }\n",
       "\n",
       "    .dataframe thead th {\n",
       "        text-align: right;\n",
       "    }\n",
       "</style>\n",
       "<table border=\"1\" class=\"dataframe\">\n",
       "  <thead>\n",
       "    <tr style=\"text-align: right;\">\n",
       "      <th></th>\n",
       "      <th>label</th>\n",
       "      <th>pixel0</th>\n",
       "      <th>pixel1</th>\n",
       "      <th>pixel2</th>\n",
       "      <th>pixel3</th>\n",
       "      <th>pixel4</th>\n",
       "      <th>pixel5</th>\n",
       "      <th>pixel6</th>\n",
       "      <th>pixel7</th>\n",
       "      <th>pixel8</th>\n",
       "      <th>...</th>\n",
       "      <th>pixel774</th>\n",
       "      <th>pixel775</th>\n",
       "      <th>pixel776</th>\n",
       "      <th>pixel777</th>\n",
       "      <th>pixel778</th>\n",
       "      <th>pixel779</th>\n",
       "      <th>pixel780</th>\n",
       "      <th>pixel781</th>\n",
       "      <th>pixel782</th>\n",
       "      <th>pixel783</th>\n",
       "    </tr>\n",
       "  </thead>\n",
       "  <tbody>\n",
       "    <tr>\n",
       "      <th>0</th>\n",
       "      <td>1</td>\n",
       "      <td>0</td>\n",
       "      <td>0</td>\n",
       "      <td>0</td>\n",
       "      <td>0</td>\n",
       "      <td>0</td>\n",
       "      <td>0</td>\n",
       "      <td>0</td>\n",
       "      <td>0</td>\n",
       "      <td>0</td>\n",
       "      <td>...</td>\n",
       "      <td>0</td>\n",
       "      <td>0</td>\n",
       "      <td>0</td>\n",
       "      <td>0</td>\n",
       "      <td>0</td>\n",
       "      <td>0</td>\n",
       "      <td>0</td>\n",
       "      <td>0</td>\n",
       "      <td>0</td>\n",
       "      <td>0</td>\n",
       "    </tr>\n",
       "    <tr>\n",
       "      <th>1</th>\n",
       "      <td>0</td>\n",
       "      <td>0</td>\n",
       "      <td>0</td>\n",
       "      <td>0</td>\n",
       "      <td>0</td>\n",
       "      <td>0</td>\n",
       "      <td>0</td>\n",
       "      <td>0</td>\n",
       "      <td>0</td>\n",
       "      <td>0</td>\n",
       "      <td>...</td>\n",
       "      <td>0</td>\n",
       "      <td>0</td>\n",
       "      <td>0</td>\n",
       "      <td>0</td>\n",
       "      <td>0</td>\n",
       "      <td>0</td>\n",
       "      <td>0</td>\n",
       "      <td>0</td>\n",
       "      <td>0</td>\n",
       "      <td>0</td>\n",
       "    </tr>\n",
       "    <tr>\n",
       "      <th>2</th>\n",
       "      <td>1</td>\n",
       "      <td>0</td>\n",
       "      <td>0</td>\n",
       "      <td>0</td>\n",
       "      <td>0</td>\n",
       "      <td>0</td>\n",
       "      <td>0</td>\n",
       "      <td>0</td>\n",
       "      <td>0</td>\n",
       "      <td>0</td>\n",
       "      <td>...</td>\n",
       "      <td>0</td>\n",
       "      <td>0</td>\n",
       "      <td>0</td>\n",
       "      <td>0</td>\n",
       "      <td>0</td>\n",
       "      <td>0</td>\n",
       "      <td>0</td>\n",
       "      <td>0</td>\n",
       "      <td>0</td>\n",
       "      <td>0</td>\n",
       "    </tr>\n",
       "    <tr>\n",
       "      <th>3</th>\n",
       "      <td>4</td>\n",
       "      <td>0</td>\n",
       "      <td>0</td>\n",
       "      <td>0</td>\n",
       "      <td>0</td>\n",
       "      <td>0</td>\n",
       "      <td>0</td>\n",
       "      <td>0</td>\n",
       "      <td>0</td>\n",
       "      <td>0</td>\n",
       "      <td>...</td>\n",
       "      <td>0</td>\n",
       "      <td>0</td>\n",
       "      <td>0</td>\n",
       "      <td>0</td>\n",
       "      <td>0</td>\n",
       "      <td>0</td>\n",
       "      <td>0</td>\n",
       "      <td>0</td>\n",
       "      <td>0</td>\n",
       "      <td>0</td>\n",
       "    </tr>\n",
       "    <tr>\n",
       "      <th>4</th>\n",
       "      <td>0</td>\n",
       "      <td>0</td>\n",
       "      <td>0</td>\n",
       "      <td>0</td>\n",
       "      <td>0</td>\n",
       "      <td>0</td>\n",
       "      <td>0</td>\n",
       "      <td>0</td>\n",
       "      <td>0</td>\n",
       "      <td>0</td>\n",
       "      <td>...</td>\n",
       "      <td>0</td>\n",
       "      <td>0</td>\n",
       "      <td>0</td>\n",
       "      <td>0</td>\n",
       "      <td>0</td>\n",
       "      <td>0</td>\n",
       "      <td>0</td>\n",
       "      <td>0</td>\n",
       "      <td>0</td>\n",
       "      <td>0</td>\n",
       "    </tr>\n",
       "  </tbody>\n",
       "</table>\n",
       "<p>5 rows × 785 columns</p>\n",
       "</div>"
      ],
      "text/plain": [
       "   label  pixel0  pixel1  pixel2  pixel3  pixel4  pixel5  pixel6  pixel7  \\\n",
       "0      1       0       0       0       0       0       0       0       0   \n",
       "1      0       0       0       0       0       0       0       0       0   \n",
       "2      1       0       0       0       0       0       0       0       0   \n",
       "3      4       0       0       0       0       0       0       0       0   \n",
       "4      0       0       0       0       0       0       0       0       0   \n",
       "\n",
       "   pixel8  ...  pixel774  pixel775  pixel776  pixel777  pixel778  pixel779  \\\n",
       "0       0  ...         0         0         0         0         0         0   \n",
       "1       0  ...         0         0         0         0         0         0   \n",
       "2       0  ...         0         0         0         0         0         0   \n",
       "3       0  ...         0         0         0         0         0         0   \n",
       "4       0  ...         0         0         0         0         0         0   \n",
       "\n",
       "   pixel780  pixel781  pixel782  pixel783  \n",
       "0         0         0         0         0  \n",
       "1         0         0         0         0  \n",
       "2         0         0         0         0  \n",
       "3         0         0         0         0  \n",
       "4         0         0         0         0  \n",
       "\n",
       "[5 rows x 785 columns]"
      ]
     },
     "execution_count": 4,
     "metadata": {},
     "output_type": "execute_result"
    }
   ],
   "source": [
    "raw_train_data.head()"
   ]
  },
  {
   "cell_type": "markdown",
   "metadata": {},
   "source": [
    "Currently the data are saved as `pandas` objects. Let's make them `numpy` arrays so we can do mathmatical operations on them."
   ]
  },
  {
   "cell_type": "code",
   "execution_count": 5,
   "metadata": {},
   "outputs": [
    {
     "name": "stdout",
     "output_type": "stream",
     "text": [
      "Examples: 42000\n",
      "Features: 785\n"
     ]
    }
   ],
   "source": [
    "train_data = np.array(raw_train_data)\n",
    "test_data = np.array(raw_test_data)\n",
    "rows, cols = train_data.shape   # show the number of examples and features\n",
    "print(f\"Examples: {rows}\")\n",
    "print(f\"Features: {cols}\")"
   ]
  },
  {
   "cell_type": "markdown",
   "metadata": {},
   "source": [
    "Currently our data is reflecting 42000 examples with 784 features (pixels) each. We should transpose this data so that we the rows and columns represents features and data respecitively."
   ]
  },
  {
   "cell_type": "code",
   "execution_count": 6,
   "metadata": {},
   "outputs": [
    {
     "name": "stdout",
     "output_type": "stream",
     "text": [
      "Shape of the first example in the training: (785, 42000)\n"
     ]
    }
   ],
   "source": [
    "train_data = train_data.T\n",
    "test_data = test_data.T\n",
    "print(f\"Shape of the first example in the training: {train_data.shape}\")"
   ]
  },
  {
   "cell_type": "markdown",
   "metadata": {},
   "source": [
    "Great, our data is now features x examples. \n",
    "\n",
    "Since our labels are still mixed within the features of the data, lets make sure we take keep the inputs and labels apart. We will have a `X` that will be of shape features x examples and a `Y` that will have the shape equivilent to the number of examples we have."
   ]
  },
  {
   "cell_type": "code",
   "execution_count": 7,
   "metadata": {},
   "outputs": [
    {
     "name": "stdout",
     "output_type": "stream",
     "text": [
      "Shape of training inputs: (784, 42000)\n",
      "Shape of training labels: (42000,)\n"
     ]
    }
   ],
   "source": [
    "Y_train = train_data[0]\n",
    "X_train = train_data[1:]\n",
    "X_train = X_train / 255\n",
    "\n",
    "Y_test = test_data[0]\n",
    "X_test = test_data[1:]\n",
    "X_test = X_test / 255\n",
    "\n",
    "print(f\"Shape of training inputs: {X_train.shape}\")\n",
    "print(f\"Shape of training labels: {Y_train.shape}\")"
   ]
  },
  {
   "cell_type": "markdown",
   "metadata": {},
   "source": [
    "With our data all cleaned up, we can begin making our neural network.\n",
    "\n",
    "We will be making a 3 layered, 1 hidden layer neural network.\n",
    "\n",
    "- input layer\n",
    "- hidden layer\n",
    "- output layer\n",
    "\n",
    "For the input and hidden layers, they will need their own weights and biases where the shapes are:\n",
    "\n",
    "- weight = number_of outputs x number_of_inputs\n",
    "- bias = number_of outputs x 1"
   ]
  },
  {
   "cell_type": "code",
   "execution_count": 8,
   "metadata": {},
   "outputs": [],
   "source": [
    "def init_params():\n",
    "    w1 = np.random.rand(10, 784) - 0.5\n",
    "    b1 = np.random.rand(10, 1) - 0.5\n",
    "    w2 = np.random.rand(10, 10) - 0.5\n",
    "    b2 = np.random.rand(10, 1) - 0.5\n",
    "    return w1, b1, w2, b2"
   ]
  },
  {
   "cell_type": "markdown",
   "metadata": {},
   "source": [
    "Now we make our forward propagation logic. Our input and hidden layer will perform the same linear operation on their inputs, but they will have different activation functions before passing their results to the next layer.\n",
    "\n",
    "Our linear operation will be $weights * inputs + bias$ where we are getting the dot product between the weight and input matrix. \n",
    "\n",
    "For our input layer, we will use the ReLU activation and for our hidden, we will use the sigmoid activation."
   ]
  },
  {
   "cell_type": "code",
   "execution_count": 9,
   "metadata": {},
   "outputs": [],
   "source": [
    "def ReLU(z):\n",
    "    return np.maximum(z, 0)\n",
    "\n",
    "def softmax(z):\n",
    "    return np.exp(z) / sum(np.exp(z))\n",
    "\n",
    "def forward_prop(w1, b1, w2, b2, X):\n",
    "    # Input layer\n",
    "    z1 = w1.dot(X) + b1\n",
    "    a1 = ReLU(z1)   # ReLU activation\n",
    "\n",
    "    # Hidden layer\n",
    "    z2 = w2.dot(a1) + b2\n",
    "    a2 = softmax(z2)    # Sigmoid activation\n",
    "    return z1, a1, z2, a2"
   ]
  },
  {
   "cell_type": "markdown",
   "metadata": {},
   "source": [
    "The next component we need is backpropagation that will go back through our neural network and update the weights and bias according to the output. To achieve this, we need to accomplish a few tasks.\n",
    "\n",
    "1. One hot encode `Y` (he process of representing categorical data as 0s and 1s)\n",
    "2. Get the error of each outputed layer (hidden and ouput)\n",
    "3. Get the gradients of the cost function with respect to the weights and biases of that layer\n",
    "4. Update the weigths and biases with the gradients"
   ]
  },
  {
   "cell_type": "code",
   "execution_count": 10,
   "metadata": {},
   "outputs": [],
   "source": [
    "def deriv_ReLU(z):\n",
    "    return z > 0\n",
    "\n",
    "def one_hot(Y):\n",
    "    \"\"\"\n",
    "    This function follows these steps:\n",
    "    1. make a matrix of all 0s of size [examples x labels]\n",
    "    2. Generate an array of numbers 0 -> 41999.\n",
    "    3. By using the array of numbers to go through the rows in the 0s matrix\n",
    "       and Y to go through the columns, set that value to 1\n",
    "    4. Transpose the modified 0s matrix\n",
    "    \"\"\"\n",
    "    one_hot_Y = np.zeros((Y.size, Y.max() + 1)) \n",
    "    one_hot_Y[np.arange(Y.size), Y] = 1 # Steps 2 and 3\n",
    "    one_hot_Y = one_hot_Y.T\n",
    "    return one_hot_Y\n",
    "\n",
    "def back_prop(z1, a1, z2, a2, w1, w2, X, Y):\n",
    "    m = Y.size\n",
    "    one_hot_Y = one_hot(Y)\n",
    "    \n",
    "    dz2 = a2 - one_hot_Y            # Get the error of the output layer\n",
    "    dw2 = 1 / m * dz2.dot(a1.T)     # Get the gradient of the cost function with respect to the weights of the second layer\n",
    "    db2 = 1 / m * np.sum(dz2)    # Get the gradient of the cost function with respect to the bias of the second layer\n",
    "\n",
    "    dz1 = w2.T.dot(dz2) * deriv_ReLU(z1)    # Get the error of the hidden layer\n",
    "    dw1 = 1 / m * dz1.dot(X.T)              # Get the gradient of the cost function with respect to the weights of the first layer\n",
    "    db1 = 1 / m * np.sum(dz1)            # Get the gradient of the cost function with respect to the bias of the first layer\n",
    "    return dw1, db1, dw2, db2\n",
    "\n",
    "def update_params(w1, b1, w2, b2, dw1, db1, dw2, db2, alpha):\n",
    "    w1 = w1 - alpha * dw1\n",
    "    b1 = b1 - alpha * db1\n",
    "    w2 = w2 - alpha * dw2\n",
    "    b2 = b2 - alpha * db2\n",
    "    return w1, b1, w2, b2"
   ]
  },
  {
   "cell_type": "markdown",
   "metadata": {},
   "source": [
    "Great, with backpropagation and param updation working, we now have a way to modify our weights and biases which is the foundation for training. Now we need to implement **gradient descent** so we can keep adjusting these weights properly over multiple interations."
   ]
  },
  {
   "cell_type": "code",
   "execution_count": 11,
   "metadata": {},
   "outputs": [],
   "source": [
    "def get_predictions(a2):\n",
    "    return np.argmax(a2, 0)\n",
    "\n",
    "def get_accuracy(predictions, Y):\n",
    "    return np.sum(predictions == Y) / Y.size\n",
    "\n",
    "def gradient_descent(X, Y, iterations, alpha):\n",
    "    w1, b1, w2, b2 = init_params()\n",
    "    for i in range(iterations):\n",
    "        z1, a1, z2, a2 = forward_prop(w1, b1, w2, b2, X)\n",
    "        dw1, db1, dw2, db2 = back_prop(z1, a1, z2, a2, w1, w2, X, Y)\n",
    "        w1, b1, w2, b2 = update_params(w1, b1, w2, b2, dw1, db1, dw2, db2, alpha)\n",
    "        if i % 50 == 0 or i == iterations-1:\n",
    "            print(f\"Iteraation: {i}\\tAccuracy: {get_accuracy(get_predictions(a2), Y)}\")\n",
    "    return w1, b1, w2, b2\n"
   ]
  },
  {
   "cell_type": "code",
   "execution_count": 29,
   "metadata": {},
   "outputs": [
    {
     "name": "stdout",
     "output_type": "stream",
     "text": [
      "Iteraation: 0\tAccuracy: 0.04830952380952381\n",
      "Iteraation: 50\tAccuracy: 0.7195238095238096\n",
      "Iteraation: 100\tAccuracy: 0.8093095238095238\n",
      "Iteraation: 150\tAccuracy: 0.8468095238095238\n",
      "Iteraation: 200\tAccuracy: 0.8672619047619048\n",
      "Iteraation: 250\tAccuracy: 0.8844761904761905\n",
      "Iteraation: 300\tAccuracy: 0.8921666666666667\n",
      "Iteraation: 350\tAccuracy: 0.8977857142857143\n",
      "Iteraation: 400\tAccuracy: 0.9027380952380952\n",
      "Iteraation: 450\tAccuracy: 0.9057857142857143\n",
      "Iteraation: 500\tAccuracy: 0.9078571428571428\n",
      "Iteraation: 550\tAccuracy: 0.9115714285714286\n",
      "Iteraation: 600\tAccuracy: 0.9136428571428571\n",
      "Iteraation: 650\tAccuracy: 0.9154761904761904\n",
      "Iteraation: 700\tAccuracy: 0.917404761904762\n",
      "Iteraation: 750\tAccuracy: 0.9188571428571428\n",
      "Iteraation: 800\tAccuracy: 0.9200238095238096\n",
      "Iteraation: 850\tAccuracy: 0.9210714285714285\n",
      "Iteraation: 900\tAccuracy: 0.9229285714285714\n",
      "Iteraation: 950\tAccuracy: 0.9237142857142857\n",
      "Iteraation: 999\tAccuracy: 0.9245714285714286\n"
     ]
    }
   ],
   "source": [
    "w1, b1, w2, b2 = gradient_descent(X_train, Y_train, 1000, 0.5)"
   ]
  },
  {
   "cell_type": "code",
   "execution_count": 55,
   "metadata": {},
   "outputs": [
    {
     "data": {
      "image/png": "[encoded data removed]",
      "text/plain": [
       "<Figure size 640x480 with 1 Axes>"
      ]
     },
     "metadata": {},
     "output_type": "display_data"
    },
    {
     "name": "stdout",
     "output_type": "stream",
     "text": [
      "Prediction: 7\tLabel: 7\n"
     ]
    }
   ],
   "source": [
    "def make_prediction(index, X, Y, w1, b1, w2, b2):\n",
    "    _, _, _, a2 = forward_prop(w1, b1, w2, b2, X)\n",
    "    predictions = get_predictions(a2)\n",
    "    \n",
    "    target_image = X[:, index].reshape((28, 28)) * 255\n",
    "    plt.gray()\n",
    "    plt.imshow(target_image, interpolation=\"nearest\")\n",
    "    plt.show()\n",
    "    print(f\"Prediction: {predictions[index]}\\tLabel: {Y[index]}\")\n",
    "\n",
    "random_index = np.random.randint(len(X_train), size=1)[0]\n",
    "make_prediction(random_index, X_train, Y_train, w1, b1, w2, b2)"
   ]
  }
 ],
 "metadata": {
  "kernelspec": {
   "display_name": "ml-venv",
   "language": "python",
   "name": "python3"
  },
  "language_info": {
   "codemirror_mode": {
    "name": "ipython",
    "version": 3
   },
   "file_extension": ".py",
   "mimetype": "text/x-python",
   "name": "python",
   "nbconvert_exporter": "python",
   "pygments_lexer": "ipython3",
   "version": "3.10.6"
  }
 },
 "nbformat": 4,
 "nbformat_minor": 2
}
